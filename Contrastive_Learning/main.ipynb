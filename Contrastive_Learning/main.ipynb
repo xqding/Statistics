{
 "cells": [
  {
   "cell_type": "code",
   "execution_count": 4,
   "metadata": {},
   "outputs": [],
   "source": [
    "import numpy as np\n",
    "import torch\n",
    "import torch.distributions as distributions\n",
    "import matplotlib.pyplot as plt"
   ]
  },
  {
   "cell_type": "code",
   "execution_count": 10,
   "metadata": {},
   "outputs": [],
   "source": [
    "mu1 = torch.tensor([0.0, 0.0])\n",
    "sigma1 = torch.tensor([[1.0, 0.0], [0.0, 1.0]])\n",
    "normal_dist_1 = distributions.Normal(mu1, sigma1)\n",
    "\n",
    "mu2 = torch.tensor([1.0, 1.0])\n",
    "sigma2 = torch.tensor([[1.5, 1.0], [1.0, 1.5]])\n",
    "normal_dist_2 = distributions.Normal(mu2, sigma2)\n",
    "\n",
    "mu3 = torch.tensor([-1.0, -2.0])\n",
    "sigma3 = torch.tensor([[1.5, -1.0], [-1.0, 1.5]])\n",
    "normal_dist_3 = distributions.Normal(mu3, sigma3)\n",
    "\n",
    "p1, p2, p3 = 0.5, 0.3, 0.2"
   ]
  },
  {
   "cell_type": "code",
   "execution_count": 12,
   "metadata": {},
   "outputs": [],
   "source": [
    "x = torch.linspace(-3., 3., steps = 100)\n",
    "y = torch.linspace(-3., 3., steps = 100)"
   ]
  },
  {
   "cell_type": "code",
   "execution_count": 14,
   "metadata": {},
   "outputs": [
    {
     "data": {
      "text/plain": [
       "torch.Size([100])"
      ]
     },
     "execution_count": 14,
     "metadata": {},
     "output_type": "execute_result"
    }
   ],
   "source": [
    "x.shape"
   ]
  },
  {
   "cell_type": "code",
   "execution_count": null,
   "metadata": {},
   "outputs": [],
   "source": []
  }
 ],
 "metadata": {
  "kernelspec": {
   "display_name": "Python 3",
   "language": "python",
   "name": "python3"
  },
  "language_info": {
   "codemirror_mode": {
    "name": "ipython",
    "version": 3
   },
   "file_extension": ".py",
   "mimetype": "text/x-python",
   "name": "python",
   "nbconvert_exporter": "python",
   "pygments_lexer": "ipython3",
   "version": "3.7.3"
  }
 },
 "nbformat": 4,
 "nbformat_minor": 2
}
